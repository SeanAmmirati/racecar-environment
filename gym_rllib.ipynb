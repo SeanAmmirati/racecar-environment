{
 "cells": [
  {
   "cell_type": "code",
   "execution_count": 1,
   "metadata": {},
   "outputs": [
    {
     "name": "stdout",
     "output_type": "stream",
     "text": [
      "/usr/bin/sh: module: line 1: syntax error: unexpected end of file\n",
      "/usr/bin/sh: error importing function definition for `module'\n",
      "/usr/bin/sh: _module_raw: line 1: syntax error: unexpected end of file\n",
      "/usr/bin/sh: error importing function definition for `_module_raw'\n",
      "/usr/bin/sh: switchml: line 1: syntax error: unexpected end of file\n",
      "/usr/bin/sh: error importing function definition for `switchml'\n",
      "/usr/bin/sh: scl: line 1: syntax error: unexpected end of file\n",
      "/usr/bin/sh: error importing function definition for `scl'\n",
      "/bin/sh: switchml: line 1: syntax error: unexpected end of file\n",
      "/bin/sh: error importing function definition for `switchml'\n",
      "/bin/sh: _module_raw: line 1: syntax error: unexpected end of file\n",
      "/bin/sh: error importing function definition for `_module_raw'\n",
      "/bin/sh: scl: line 1: syntax error: unexpected end of file\n",
      "/bin/sh: error importing function definition for `scl'\n",
      "/bin/sh: module: line 1: syntax error: unexpected end of file\n",
      "/bin/sh: error importing function definition for `module'\n",
      "Collecting package metadata (repodata.json): done\n",
      "Solving environment: done\n",
      "\n",
      "# All requested packages already installed.\n",
      "\n",
      "\n",
      "Note: you may need to restart the kernel to use updated packages.\n"
     ]
    }
   ],
   "source": [
    "conda install requests"
   ]
  },
  {
   "cell_type": "code",
   "execution_count": 10,
   "metadata": {},
   "outputs": [],
   "source": [
    "import ray"
   ]
  },
  {
   "cell_type": "code",
   "execution_count": 13,
   "metadata": {},
   "outputs": [
    {
     "name": "stderr",
     "output_type": "stream",
     "text": [
      "2019-09-21 19:47:18,868\tINFO resource_spec.py:205 -- Starting Ray with 1.61 GiB memory available for workers and up to 0.81 GiB for objects. You can adjust these settings with ray.remote(memory=<bytes>, object_store_memory=<bytes>).\n"
     ]
    },
    {
     "data": {
      "text/plain": [
       "{'node_ip_address': '192.168.1.229',\n",
       " 'redis_address': '192.168.1.229:49997',\n",
       " 'object_store_address': '/tmp/ray/session_2019-09-21_19-47-18_867576_8209/sockets/plasma_store',\n",
       " 'raylet_socket_name': '/tmp/ray/session_2019-09-21_19-47-18_867576_8209/sockets/raylet',\n",
       " 'webui_url': None,\n",
       " 'session_dir': '/tmp/ray/session_2019-09-21_19-47-18_867576_8209'}"
      ]
     },
     "execution_count": 13,
     "metadata": {},
     "output_type": "execute_result"
    }
   ],
   "source": [
    "ray.init()"
   ]
  },
  {
   "cell_type": "code",
   "execution_count": 18,
   "metadata": {},
   "outputs": [
    {
     "name": "stdout",
     "output_type": "stream",
     "text": [
      "/usr/bin/sh: module: line 1: syntax error: unexpected end of file\r\n",
      "/usr/bin/sh: error importing function definition for `module'\r\n",
      "/usr/bin/sh: _module_raw: line 1: syntax error: unexpected end of file\r\n",
      "/usr/bin/sh: error importing function definition for `_module_raw'\r\n",
      "/usr/bin/sh: switchml: line 1: syntax error: unexpected end of file\r\n",
      "/usr/bin/sh: error importing function definition for `switchml'\r\n",
      "/usr/bin/sh: scl: line 1: syntax error: unexpected end of file\r\n",
      "/usr/bin/sh: error importing function definition for `scl'\r\n",
      "accelerate_pandas.ipynb  \u001b[0m\u001b[38;5;13mnewsreader_4.png\u001b[0m\r\n",
      "map_reduce.ipynb         \u001b[38;5;13mnewsreader_5.png\u001b[0m\r\n",
      "\u001b[38;5;13mnewsreader_1.png\u001b[0m         news_recommendation_model.ipynb\r\n",
      "\u001b[38;5;13mnewsreader_2.png\u001b[0m         news_recommendation_serving.ipynb\r\n",
      "\u001b[38;5;13mnewsreader_3.png\u001b[0m         sharded_parameter_server.ipynb\r\n"
     ]
    }
   ],
   "source": [
    "ls tutorial/examples"
   ]
  },
  {
   "cell_type": "code",
   "execution_count": 15,
   "metadata": {},
   "outputs": [
    {
     "name": "stdout",
     "output_type": "stream",
     "text": [
      "/usr/bin/sh: module: line 1: syntax error: unexpected end of file\n",
      "/usr/bin/sh: error importing function definition for `module'\n",
      "/usr/bin/sh: _module_raw: line 1: syntax error: unexpected end of file\n",
      "/usr/bin/sh: error importing function definition for `_module_raw'\n",
      "/usr/bin/sh: switchml: line 1: syntax error: unexpected end of file\n",
      "/usr/bin/sh: error importing function definition for `switchml'\n",
      "/usr/bin/sh: scl: line 1: syntax error: unexpected end of file\n",
      "/usr/bin/sh: error importing function definition for `scl'\n",
      "Cloning into 'tutorial'...\n",
      "remote: Enumerating objects: 4, done.\u001b[K\n",
      "remote: Counting objects: 100% (4/4), done.\u001b[K\n",
      "remote: Compressing objects: 100% (4/4), done.\u001b[K\n",
      "remote: Total 792 (delta 0), reused 0 (delta 0), pack-reused 788\u001b[K\n",
      "Receiving objects: 100% (792/792), 30.65 MiB | 6.99 MiB/s, done.\n",
      "Resolving deltas: 100% (425/425), done.\n"
     ]
    }
   ],
   "source": [
    "!git clone https://github.com/ray-project/tutorial.git"
   ]
  },
  {
   "cell_type": "code",
   "execution_count": 8,
   "metadata": {},
   "outputs": [
    {
     "name": "stderr",
     "output_type": "stream",
     "text": [
      "2019-09-21 19:03:12,949\tINFO logger.py:206 -- Initializing TFLogger instead of TF2Logger.\n"
     ]
    },
    {
     "name": "stdout",
     "output_type": "stream",
     "text": [
      "== Status ==\n",
      "Using FIFO scheduling algorithm.\n",
      "Resources requested: 0/4 CPUs, 0/1 GPUs, 0.0/1.56 GiB heap, 0.0/0.54 GiB objects\n",
      "Memory usage on this node: 13.4/15.6 GiB\n",
      "\n",
      "== Status ==\n",
      "Using FIFO scheduling algorithm.\n",
      "Resources requested: 3/4 CPUs, 1/1 GPUs, 0.0/1.56 GiB heap, 0.0/0.54 GiB objects\n",
      "Memory usage on this node: 13.4/15.6 GiB\n",
      "Result logdir: /home/seanammirati/ray_results/PPO\n",
      "Number of trials: 1 ({'RUNNING': 1})\n",
      "RUNNING trials:\n",
      " - PPO_Pong-v0_0:\tRUNNING\n",
      "\n",
      "\u001b[2m\u001b[36m(pid=9131)\u001b[0m 2019-09-21 19:03:12,966\tINFO trainer.py:339 -- Tip: set 'eager': true or the --eager flag to enable TensorFlow eager execution\n",
      "\u001b[2m\u001b[36m(pid=9131)\u001b[0m OMP: Info #251: KMP_AFFINITY: pid 9131 tid 9131 thread 1 bound to OS proc set 1\n",
      "\u001b[2m\u001b[36m(pid=9131)\u001b[0m OMP: Info #251: KMP_AFFINITY: pid 9131 tid 10465 thread 2 bound to OS proc set 2\n",
      "\u001b[2m\u001b[36m(pid=9131)\u001b[0m OMP: Info #251: KMP_AFFINITY: pid 9131 tid 10471 thread 3 bound to OS proc set 3\n",
      "\u001b[2m\u001b[36m(pid=9131)\u001b[0m OMP: Info #251: KMP_AFFINITY: pid 9131 tid 10472 thread 4 bound to OS proc set 0\n",
      "\u001b[2m\u001b[36m(pid=9131)\u001b[0m OMP: Info #251: KMP_AFFINITY: pid 9131 tid 10473 thread 5 bound to OS proc set 1\n",
      "\u001b[2m\u001b[36m(pid=9131)\u001b[0m 2019-09-21 19:03:14,571\tINFO rollout_worker.py:769 -- Built policy map: {'default_policy': <ray.rllib.policy.tf_policy_template.PPOTFPolicy object at 0x7fc6a6218b90>}\n",
      "\u001b[2m\u001b[36m(pid=9131)\u001b[0m 2019-09-21 19:03:14,571\tINFO rollout_worker.py:770 -- Built preprocessor map: {'default_policy': <ray.rllib.models.preprocessors.NoPreprocessor object at 0x7fc6a6218b10>}\n",
      "\u001b[2m\u001b[36m(pid=9131)\u001b[0m 2019-09-21 19:03:14,571\tINFO rollout_worker.py:373 -- Built filter map: {'default_policy': <ray.rllib.utils.filter.NoFilter object at 0x7fc6d9515e50>}\n",
      "\u001b[2m\u001b[36m(pid=9131)\u001b[0m 2019-09-21 19:03:14,595\tINFO multi_gpu_optimizer.py:93 -- LocalMultiGPUOptimizer devices ['/gpu:0']\n",
      "\u001b[2m\u001b[36m(pid=10474)\u001b[0m /bin/sh: module: line 1: syntax error: unexpected end of file\n",
      "\u001b[2m\u001b[36m(pid=10474)\u001b[0m /bin/sh: error importing function definition for `module'\n",
      "\u001b[2m\u001b[36m(pid=10474)\u001b[0m /bin/sh: _module_raw: line 1: syntax error: unexpected end of file\n",
      "\u001b[2m\u001b[36m(pid=10474)\u001b[0m /bin/sh: error importing function definition for `_module_raw'\n",
      "\u001b[2m\u001b[36m(pid=10474)\u001b[0m /bin/sh: switchml: line 1: syntax error: unexpected end of file\n",
      "\u001b[2m\u001b[36m(pid=10474)\u001b[0m /bin/sh: error importing function definition for `switchml'\n",
      "\u001b[2m\u001b[36m(pid=10474)\u001b[0m /bin/sh: scl: line 1: syntax error: unexpected end of file\n",
      "\u001b[2m\u001b[36m(pid=10474)\u001b[0m /bin/sh: error importing function definition for `scl'\n",
      "\u001b[2m\u001b[36m(pid=10475)\u001b[0m /bin/sh: module: line 1: syntax error: unexpected end of file\n",
      "\u001b[2m\u001b[36m(pid=10475)\u001b[0m /bin/sh: error importing function definition for `module'\n",
      "\u001b[2m\u001b[36m(pid=10475)\u001b[0m /bin/sh: _module_raw: line 1: syntax error: unexpected end of file\n",
      "\u001b[2m\u001b[36m(pid=10475)\u001b[0m /bin/sh: error importing function definition for `_module_raw'\n",
      "\u001b[2m\u001b[36m(pid=10475)\u001b[0m /bin/sh: switchml: line 1: syntax error: unexpected end of file\n",
      "\u001b[2m\u001b[36m(pid=10475)\u001b[0m /bin/sh: error importing function definition for `switchml'\n",
      "\u001b[2m\u001b[36m(pid=10475)\u001b[0m /bin/sh: scl: line 1: syntax error: unexpected end of file\n",
      "\u001b[2m\u001b[36m(pid=10475)\u001b[0m /bin/sh: error importing function definition for `scl'\n",
      "\u001b[2m\u001b[36m(pid=10474)\u001b[0m OMP: Info #154: KMP_AFFINITY: Initial OS proc set respected: 0-3\n",
      "\u001b[2m\u001b[36m(pid=10474)\u001b[0m OMP: Info #213: KMP_AFFINITY: decoding x2APIC ids.\n",
      "\u001b[2m\u001b[36m(pid=10474)\u001b[0m OMP: Info #276: KMP_AFFINITY: Affinity capable, using global cpuid leaf 11 info\n",
      "\u001b[2m\u001b[36m(pid=10474)\u001b[0m OMP: Info #156: KMP_AFFINITY: 4 available OS procs\n",
      "\u001b[2m\u001b[36m(pid=10474)\u001b[0m OMP: Info #157: KMP_AFFINITY: Uniform topology\n",
      "\u001b[2m\u001b[36m(pid=10474)\u001b[0m OMP: Info #191: KMP_AFFINITY: 1 socket x 4 cores/socket x 1 thread/core (4 total cores)\n",
      "\u001b[2m\u001b[36m(pid=10474)\u001b[0m OMP: Info #215: KMP_AFFINITY: OS proc to physical thread map:\n",
      "\u001b[2m\u001b[36m(pid=10474)\u001b[0m OMP: Info #171: KMP_AFFINITY: OS proc 0 maps to socket 0 core 0 \n",
      "\u001b[2m\u001b[36m(pid=10474)\u001b[0m OMP: Info #171: KMP_AFFINITY: OS proc 1 maps to socket 0 core 1 \n",
      "\u001b[2m\u001b[36m(pid=10474)\u001b[0m OMP: Info #171: KMP_AFFINITY: OS proc 2 maps to socket 0 core 2 \n",
      "\u001b[2m\u001b[36m(pid=10474)\u001b[0m OMP: Info #171: KMP_AFFINITY: OS proc 3 maps to socket 0 core 3 \n",
      "\u001b[2m\u001b[36m(pid=10474)\u001b[0m OMP: Info #251: KMP_AFFINITY: pid 10474 tid 10476 thread 0 bound to OS proc set 0\n",
      "\u001b[2m\u001b[36m(pid=10475)\u001b[0m OMP: Info #154: KMP_AFFINITY: Initial OS proc set respected: 0-3\n",
      "\u001b[2m\u001b[36m(pid=10475)\u001b[0m OMP: Info #213: KMP_AFFINITY: decoding x2APIC ids.\n",
      "\u001b[2m\u001b[36m(pid=10475)\u001b[0m OMP: Info #276: KMP_AFFINITY: Affinity capable, using global cpuid leaf 11 info\n",
      "\u001b[2m\u001b[36m(pid=10475)\u001b[0m OMP: Info #156: KMP_AFFINITY: 4 available OS procs\n",
      "\u001b[2m\u001b[36m(pid=10475)\u001b[0m OMP: Info #157: KMP_AFFINITY: Uniform topology\n",
      "\u001b[2m\u001b[36m(pid=10475)\u001b[0m OMP: Info #191: KMP_AFFINITY: 1 socket x 4 cores/socket x 1 thread/core (4 total cores)\n",
      "\u001b[2m\u001b[36m(pid=10475)\u001b[0m OMP: Info #215: KMP_AFFINITY: OS proc to physical thread map:\n",
      "\u001b[2m\u001b[36m(pid=10475)\u001b[0m OMP: Info #171: KMP_AFFINITY: OS proc 0 maps to socket 0 core 0 \n",
      "\u001b[2m\u001b[36m(pid=10475)\u001b[0m OMP: Info #171: KMP_AFFINITY: OS proc 1 maps to socket 0 core 1 \n",
      "\u001b[2m\u001b[36m(pid=10475)\u001b[0m OMP: Info #171: KMP_AFFINITY: OS proc 2 maps to socket 0 core 2 \n",
      "\u001b[2m\u001b[36m(pid=10475)\u001b[0m OMP: Info #171: KMP_AFFINITY: OS proc 3 maps to socket 0 core 3 \n",
      "\u001b[2m\u001b[36m(pid=10475)\u001b[0m OMP: Info #251: KMP_AFFINITY: pid 10475 tid 10477 thread 0 bound to OS proc set 0\n",
      "\u001b[2m\u001b[36m(pid=10475)\u001b[0m OMP: Info #251: KMP_AFFINITY: pid 10475 tid 10475 thread 1 bound to OS proc set 1\n",
      "\u001b[2m\u001b[36m(pid=10475)\u001b[0m OMP: Info #251: KMP_AFFINITY: pid 10475 tid 10498 thread 2 bound to OS proc set 2\n",
      "\u001b[2m\u001b[36m(pid=10475)\u001b[0m OMP: Info #251: KMP_AFFINITY: pid 10475 tid 10500 thread 3 bound to OS proc set 3\n",
      "\u001b[2m\u001b[36m(pid=10475)\u001b[0m OMP: Info #251: KMP_AFFINITY: pid 10475 tid 10501 thread 4 bound to OS proc set 0\n",
      "\u001b[2m\u001b[36m(pid=10475)\u001b[0m OMP: Info #251: KMP_AFFINITY: pid 10475 tid 10502 thread 5 bound to OS proc set 1\n",
      "\u001b[2m\u001b[36m(pid=10475)\u001b[0m 2019-09-21 19:03:20,287\tINFO rollout_worker.py:470 -- Generating sample batch of size 200\n",
      "\u001b[2m\u001b[36m(pid=10475)\u001b[0m 2019-09-21 19:03:20,314\tINFO sampler.py:310 -- Raw obs from env: { 0: { 'agent0': np.ndarray((84, 84, 4), dtype=uint8, min=52.0, max=236.0, mean=106.389)}}\n",
      "\u001b[2m\u001b[36m(pid=10475)\u001b[0m 2019-09-21 19:03:20,315\tINFO sampler.py:311 -- Info return from env: {0: {'agent0': None}}\n",
      "\u001b[2m\u001b[36m(pid=10475)\u001b[0m 2019-09-21 19:03:20,315\tINFO sampler.py:409 -- Preprocessed obs: np.ndarray((84, 84, 4), dtype=uint8, min=52.0, max=236.0, mean=106.389)\n",
      "\u001b[2m\u001b[36m(pid=10475)\u001b[0m 2019-09-21 19:03:20,315\tINFO sampler.py:413 -- Filtered obs: np.ndarray((84, 84, 4), dtype=uint8, min=52.0, max=236.0, mean=106.389)\n",
      "\u001b[2m\u001b[36m(pid=10475)\u001b[0m 2019-09-21 19:03:20,315\tINFO sampler.py:528 -- Inputs to compute_actions():\n",
      "\u001b[2m\u001b[36m(pid=10475)\u001b[0m \n",
      "\u001b[2m\u001b[36m(pid=10475)\u001b[0m { 'default_policy': [ { 'data': { 'agent_id': 'agent0',\n",
      "\u001b[2m\u001b[36m(pid=10475)\u001b[0m                                   'env_id': 0,\n",
      "\u001b[2m\u001b[36m(pid=10475)\u001b[0m                                   'info': None,\n",
      "\u001b[2m\u001b[36m(pid=10475)\u001b[0m                                   'obs': np.ndarray((84, 84, 4), dtype=uint8, min=52.0, max=236.0, mean=106.389),\n",
      "\u001b[2m\u001b[36m(pid=10475)\u001b[0m                                   'prev_action': np.ndarray((), dtype=int64, min=0.0, max=0.0, mean=0.0),\n",
      "\u001b[2m\u001b[36m(pid=10475)\u001b[0m                                   'prev_reward': 0.0,\n",
      "\u001b[2m\u001b[36m(pid=10475)\u001b[0m                                   'rnn_state': []},\n",
      "\u001b[2m\u001b[36m(pid=10475)\u001b[0m                         'type': 'PolicyEvalData'}]}\n",
      "\u001b[2m\u001b[36m(pid=10475)\u001b[0m \n",
      "\u001b[2m\u001b[36m(pid=10475)\u001b[0m 2019-09-21 19:03:20,315\tINFO tf_run_builder.py:92 -- Executing TF run without tracing. To dump TF timeline traces to disk, set the TF_TIMELINE_DIR environment variable.\n",
      "\u001b[2m\u001b[36m(pid=10475)\u001b[0m OMP: Info #251: KMP_AFFINITY: pid 10475 tid 10499 thread 6 bound to OS proc set 2\n",
      "\u001b[2m\u001b[36m(pid=10475)\u001b[0m OMP: Info #251: KMP_AFFINITY: pid 10475 tid 10503 thread 7 bound to OS proc set 3\n",
      "\u001b[2m\u001b[36m(pid=10475)\u001b[0m OMP: Info #251: KMP_AFFINITY: pid 10475 tid 10504 thread 8 bound to OS proc set 0\n",
      "\u001b[2m\u001b[36m(pid=10475)\u001b[0m OMP: Info #251: KMP_AFFINITY: pid 10475 tid 10505 thread 9 bound to OS proc set 1\n",
      "\u001b[2m\u001b[36m(pid=10475)\u001b[0m 2019-09-21 19:03:20,372\tINFO sampler.py:555 -- Outputs of compute_actions():\n",
      "\u001b[2m\u001b[36m(pid=10475)\u001b[0m \n",
      "\u001b[2m\u001b[36m(pid=10475)\u001b[0m { 'default_policy': ( np.ndarray((1,), dtype=int64, min=4.0, max=4.0, mean=4.0),\n",
      "\u001b[2m\u001b[36m(pid=10475)\u001b[0m                       [],\n",
      "\u001b[2m\u001b[36m(pid=10475)\u001b[0m                       { 'action_logp': np.ndarray((1,), dtype=float32, min=-0.0, max=-0.0, mean=-0.0),\n",
      "\u001b[2m\u001b[36m(pid=10475)\u001b[0m                         'action_prob': np.ndarray((1,), dtype=float32, min=1.0, max=1.0, mean=1.0),\n",
      "\u001b[2m\u001b[36m(pid=10475)\u001b[0m                         'behaviour_logits': np.ndarray((1, 6), dtype=float32, min=-2.574, max=21.346, mean=6.265),\n",
      "\u001b[2m\u001b[36m(pid=10475)\u001b[0m                         'vf_preds': np.ndarray((1,), dtype=float32, min=0.516, max=0.516, mean=0.516)})}\n",
      "\u001b[2m\u001b[36m(pid=10475)\u001b[0m \n"
     ]
    },
    {
     "name": "stdout",
     "output_type": "stream",
     "text": [
      "\u001b[2m\u001b[36m(pid=10475)\u001b[0m 2019-09-21 19:03:21,548\tINFO sample_batch_builder.py:161 -- Trajectory fragment after postprocess_trajectory():\n",
      "\u001b[2m\u001b[36m(pid=10475)\u001b[0m \n",
      "\u001b[2m\u001b[36m(pid=10475)\u001b[0m { 'agent0': { 'data': { 'action_logp': np.ndarray((200,), dtype=float32, min=-0.0, max=-0.0, mean=-0.0),\n",
      "\u001b[2m\u001b[36m(pid=10475)\u001b[0m                         'action_prob': np.ndarray((200,), dtype=float32, min=1.0, max=1.0, mean=1.0),\n",
      "\u001b[2m\u001b[36m(pid=10475)\u001b[0m                         'actions': np.ndarray((200,), dtype=int64, min=4.0, max=4.0, mean=4.0),\n",
      "\u001b[2m\u001b[36m(pid=10475)\u001b[0m                         'advantages': np.ndarray((200,), dtype=float32, min=-3.665, max=-0.163, mean=-1.889),\n",
      "\u001b[2m\u001b[36m(pid=10475)\u001b[0m                         'agent_index': np.ndarray((200,), dtype=int64, min=0.0, max=0.0, mean=0.0),\n",
      "\u001b[2m\u001b[36m(pid=10475)\u001b[0m                         'behaviour_logits': np.ndarray((200, 6), dtype=float32, min=-3.074, max=22.154, mean=6.276),\n",
      "\u001b[2m\u001b[36m(pid=10475)\u001b[0m                         'dones': np.ndarray((200,), dtype=bool, min=0.0, max=0.0, mean=0.0),\n",
      "\u001b[2m\u001b[36m(pid=10475)\u001b[0m                         'eps_id': np.ndarray((200,), dtype=int64, min=408181663.0, max=408181663.0, mean=408181663.0),\n",
      "\u001b[2m\u001b[36m(pid=10475)\u001b[0m                         'infos': np.ndarray((200,), dtype=object, head={'ale.lives': 0}),\n",
      "\u001b[2m\u001b[36m(pid=10475)\u001b[0m                         'new_obs': np.ndarray((200, 84, 84, 4), dtype=uint8, min=52.0, max=236.0, mean=106.236),\n",
      "\u001b[2m\u001b[36m(pid=10475)\u001b[0m                         'obs': np.ndarray((200, 84, 84, 4), dtype=uint8, min=52.0, max=236.0, mean=106.237),\n",
      "\u001b[2m\u001b[36m(pid=10475)\u001b[0m                         'prev_actions': np.ndarray((200,), dtype=int64, min=0.0, max=4.0, mean=3.98),\n",
      "\u001b[2m\u001b[36m(pid=10475)\u001b[0m                         'prev_rewards': np.ndarray((200,), dtype=float32, min=-1.0, max=0.0, mean=-0.015),\n",
      "\u001b[2m\u001b[36m(pid=10475)\u001b[0m                         'rewards': np.ndarray((200,), dtype=float32, min=-1.0, max=0.0, mean=-0.02),\n",
      "\u001b[2m\u001b[36m(pid=10475)\u001b[0m                         't': np.ndarray((200,), dtype=int64, min=0.0, max=199.0, mean=99.5),\n",
      "\u001b[2m\u001b[36m(pid=10475)\u001b[0m                         'unroll_id': np.ndarray((200,), dtype=int64, min=0.0, max=0.0, mean=0.0),\n",
      "\u001b[2m\u001b[36m(pid=10475)\u001b[0m                         'value_targets': np.ndarray((200,), dtype=float32, min=-1.993, max=0.042, mean=-0.917),\n",
      "\u001b[2m\u001b[36m(pid=10475)\u001b[0m                         'vf_preds': np.ndarray((200,), dtype=float32, min=0.045, max=1.731, mean=0.972)},\n",
      "\u001b[2m\u001b[36m(pid=10475)\u001b[0m               'type': 'SampleBatch'}}\n",
      "\u001b[2m\u001b[36m(pid=10475)\u001b[0m \n",
      "\u001b[2m\u001b[36m(pid=10475)\u001b[0m 2019-09-21 19:03:21,579\tINFO rollout_worker.py:504 -- Completed sample batch:\n",
      "\u001b[2m\u001b[36m(pid=10475)\u001b[0m \n",
      "\u001b[2m\u001b[36m(pid=10475)\u001b[0m { 'data': { 'action_logp': np.ndarray((200,), dtype=float32, min=-0.0, max=-0.0, mean=-0.0),\n",
      "\u001b[2m\u001b[36m(pid=10475)\u001b[0m             'action_prob': np.ndarray((200,), dtype=float32, min=1.0, max=1.0, mean=1.0),\n",
      "\u001b[2m\u001b[36m(pid=10475)\u001b[0m             'actions': np.ndarray((200,), dtype=int64, min=4.0, max=4.0, mean=4.0),\n",
      "\u001b[2m\u001b[36m(pid=10475)\u001b[0m             'advantages': np.ndarray((200,), dtype=float32, min=-3.665, max=-0.163, mean=-1.889),\n",
      "\u001b[2m\u001b[36m(pid=10475)\u001b[0m             'agent_index': np.ndarray((200,), dtype=int64, min=0.0, max=0.0, mean=0.0),\n",
      "\u001b[2m\u001b[36m(pid=10475)\u001b[0m             'behaviour_logits': np.ndarray((200, 6), dtype=float32, min=-3.074, max=22.154, mean=6.276),\n",
      "\u001b[2m\u001b[36m(pid=10475)\u001b[0m             'dones': np.ndarray((200,), dtype=bool, min=0.0, max=0.0, mean=0.0),\n",
      "\u001b[2m\u001b[36m(pid=10475)\u001b[0m             'eps_id': np.ndarray((200,), dtype=int64, min=408181663.0, max=408181663.0, mean=408181663.0),\n",
      "\u001b[2m\u001b[36m(pid=10475)\u001b[0m             'infos': np.ndarray((200,), dtype=object, head={'ale.lives': 0}),\n",
      "\u001b[2m\u001b[36m(pid=10475)\u001b[0m             'new_obs': np.ndarray((200, 84, 84, 4), dtype=uint8, min=52.0, max=236.0, mean=106.236),\n",
      "\u001b[2m\u001b[36m(pid=10475)\u001b[0m             'obs': np.ndarray((200, 84, 84, 4), dtype=uint8, min=52.0, max=236.0, mean=106.237),\n",
      "\u001b[2m\u001b[36m(pid=10475)\u001b[0m             'prev_actions': np.ndarray((200,), dtype=int64, min=0.0, max=4.0, mean=3.98),\n",
      "\u001b[2m\u001b[36m(pid=10475)\u001b[0m             'prev_rewards': np.ndarray((200,), dtype=float32, min=-1.0, max=0.0, mean=-0.015),\n",
      "\u001b[2m\u001b[36m(pid=10475)\u001b[0m             'rewards': np.ndarray((200,), dtype=float32, min=-1.0, max=0.0, mean=-0.02),\n",
      "\u001b[2m\u001b[36m(pid=10475)\u001b[0m             't': np.ndarray((200,), dtype=int64, min=0.0, max=199.0, mean=99.5),\n",
      "\u001b[2m\u001b[36m(pid=10475)\u001b[0m             'unroll_id': np.ndarray((200,), dtype=int64, min=0.0, max=0.0, mean=0.0),\n",
      "\u001b[2m\u001b[36m(pid=10475)\u001b[0m             'value_targets': np.ndarray((200,), dtype=float32, min=-1.993, max=0.042, mean=-0.917),\n",
      "\u001b[2m\u001b[36m(pid=10475)\u001b[0m             'vf_preds': np.ndarray((200,), dtype=float32, min=0.045, max=1.731, mean=0.972)},\n",
      "\u001b[2m\u001b[36m(pid=10475)\u001b[0m   'type': 'SampleBatch'}\n",
      "\u001b[2m\u001b[36m(pid=10475)\u001b[0m \n"
     ]
    },
    {
     "name": "stderr",
     "output_type": "stream",
     "text": [
      "2019-09-21 19:44:10,018\tERROR worker.py:1693 -- print_logs: Connection closed by server.\n",
      "2019-09-21 19:44:10,021\tERROR import_thread.py:89 -- ImportThread: Connection closed by server.\n",
      "2019-09-21 19:44:10,028\tERROR worker.py:1793 -- listen_error_messages_raylet: Connection closed by server.\n"
     ]
    },
    {
     "ename": "KeyboardInterrupt",
     "evalue": "",
     "output_type": "error",
     "traceback": [
      "\u001b[0;31m---------------------------------------------------------------------------\u001b[0m",
      "\u001b[0;31mKeyboardInterrupt\u001b[0m                         Traceback (most recent call last)",
      "\u001b[0;32m<ipython-input-8-0ac9532e031e>\u001b[0m in \u001b[0;36m<module>\u001b[0;34m\u001b[0m\n\u001b[1;32m      1\u001b[0m \u001b[0;32mfrom\u001b[0m \u001b[0mray\u001b[0m \u001b[0;32mimport\u001b[0m \u001b[0mtune\u001b[0m\u001b[0;34m\u001b[0m\u001b[0;34m\u001b[0m\u001b[0m\n\u001b[1;32m      2\u001b[0m \u001b[0;32mfrom\u001b[0m \u001b[0mray\u001b[0m\u001b[0;34m.\u001b[0m\u001b[0mrllib\u001b[0m\u001b[0;34m.\u001b[0m\u001b[0magents\u001b[0m\u001b[0;34m.\u001b[0m\u001b[0mppo\u001b[0m \u001b[0;32mimport\u001b[0m \u001b[0mPPOTrainer\u001b[0m\u001b[0;34m\u001b[0m\u001b[0;34m\u001b[0m\u001b[0m\n\u001b[0;32m----> 3\u001b[0;31m \u001b[0mt\u001b[0m \u001b[0;34m=\u001b[0m \u001b[0mtune\u001b[0m\u001b[0;34m.\u001b[0m\u001b[0mrun\u001b[0m\u001b[0;34m(\u001b[0m\u001b[0mPPOTrainer\u001b[0m\u001b[0;34m,\u001b[0m \u001b[0mconfig\u001b[0m\u001b[0;34m=\u001b[0m\u001b[0;34m{\u001b[0m\u001b[0;34m\"env\"\u001b[0m\u001b[0;34m:\u001b[0m \u001b[0;34m\"Pong-v0\"\u001b[0m\u001b[0;34m,\u001b[0m \u001b[0;34m'num_gpus'\u001b[0m\u001b[0;34m:\u001b[0m \u001b[0;36m1\u001b[0m\u001b[0;34m}\u001b[0m\u001b[0;34m)\u001b[0m  \u001b[0;31m# \"eager\": True for eager execution\u001b[0m\u001b[0;34m\u001b[0m\u001b[0;34m\u001b[0m\u001b[0m\n\u001b[0m",
      "\u001b[0;32m~/anaconda3/envs/reinforcement_learning_space_invaders/lib/python3.7/site-packages/ray/tune/tune.py\u001b[0m in \u001b[0;36mrun\u001b[0;34m(run_or_experiment, name, stop, config, resources_per_trial, num_samples, local_dir, upload_dir, trial_name_creator, loggers, sync_to_cloud, sync_to_driver, checkpoint_freq, checkpoint_at_end, keep_checkpoints_num, checkpoint_score_attr, global_checkpoint_period, export_formats, max_failures, restore, search_alg, scheduler, with_server, server_port, verbose, resume, queue_trials, reuse_actors, trial_executor, raise_on_failed_trial, return_trials, ray_auto_init, sync_function)\u001b[0m\n\u001b[1;32m    242\u001b[0m     \u001b[0mlast_debug\u001b[0m \u001b[0;34m=\u001b[0m \u001b[0;36m0\u001b[0m\u001b[0;34m\u001b[0m\u001b[0;34m\u001b[0m\u001b[0m\n\u001b[1;32m    243\u001b[0m     \u001b[0;32mwhile\u001b[0m \u001b[0;32mnot\u001b[0m \u001b[0mrunner\u001b[0m\u001b[0;34m.\u001b[0m\u001b[0mis_finished\u001b[0m\u001b[0;34m(\u001b[0m\u001b[0;34m)\u001b[0m\u001b[0;34m:\u001b[0m\u001b[0;34m\u001b[0m\u001b[0;34m\u001b[0m\u001b[0m\n\u001b[0;32m--> 244\u001b[0;31m         \u001b[0mrunner\u001b[0m\u001b[0;34m.\u001b[0m\u001b[0mstep\u001b[0m\u001b[0;34m(\u001b[0m\u001b[0;34m)\u001b[0m\u001b[0;34m\u001b[0m\u001b[0;34m\u001b[0m\u001b[0m\n\u001b[0m\u001b[1;32m    245\u001b[0m         \u001b[0;32mif\u001b[0m \u001b[0mtime\u001b[0m\u001b[0;34m.\u001b[0m\u001b[0mtime\u001b[0m\u001b[0;34m(\u001b[0m\u001b[0;34m)\u001b[0m \u001b[0;34m-\u001b[0m \u001b[0mlast_debug\u001b[0m \u001b[0;34m>\u001b[0m \u001b[0mDEBUG_PRINT_INTERVAL\u001b[0m\u001b[0;34m:\u001b[0m\u001b[0;34m\u001b[0m\u001b[0;34m\u001b[0m\u001b[0m\n\u001b[1;32m    246\u001b[0m             \u001b[0;32mif\u001b[0m \u001b[0mverbose\u001b[0m\u001b[0;34m:\u001b[0m\u001b[0;34m\u001b[0m\u001b[0;34m\u001b[0m\u001b[0m\n",
      "\u001b[0;32m~/anaconda3/envs/reinforcement_learning_space_invaders/lib/python3.7/site-packages/ray/tune/trial_runner.py\u001b[0m in \u001b[0;36mstep\u001b[0;34m(self)\u001b[0m\n\u001b[1;32m    326\u001b[0m                 \u001b[0mself\u001b[0m\u001b[0;34m.\u001b[0m\u001b[0mtrial_executor\u001b[0m\u001b[0;34m.\u001b[0m\u001b[0mstart_trial\u001b[0m\u001b[0;34m(\u001b[0m\u001b[0mnext_trial\u001b[0m\u001b[0;34m)\u001b[0m\u001b[0;34m\u001b[0m\u001b[0;34m\u001b[0m\u001b[0m\n\u001b[1;32m    327\u001b[0m         \u001b[0;32melif\u001b[0m \u001b[0mself\u001b[0m\u001b[0;34m.\u001b[0m\u001b[0mtrial_executor\u001b[0m\u001b[0;34m.\u001b[0m\u001b[0mget_running_trials\u001b[0m\u001b[0;34m(\u001b[0m\u001b[0;34m)\u001b[0m\u001b[0;34m:\u001b[0m\u001b[0;34m\u001b[0m\u001b[0;34m\u001b[0m\u001b[0m\n\u001b[0;32m--> 328\u001b[0;31m             \u001b[0mself\u001b[0m\u001b[0;34m.\u001b[0m\u001b[0m_process_events\u001b[0m\u001b[0;34m(\u001b[0m\u001b[0;34m)\u001b[0m  \u001b[0;31m# blocking\u001b[0m\u001b[0;34m\u001b[0m\u001b[0;34m\u001b[0m\u001b[0m\n\u001b[0m\u001b[1;32m    329\u001b[0m         \u001b[0;32melse\u001b[0m\u001b[0;34m:\u001b[0m\u001b[0;34m\u001b[0m\u001b[0;34m\u001b[0m\u001b[0m\n\u001b[1;32m    330\u001b[0m             \u001b[0;32mfor\u001b[0m \u001b[0mtrial\u001b[0m \u001b[0;32min\u001b[0m \u001b[0mself\u001b[0m\u001b[0;34m.\u001b[0m\u001b[0m_trials\u001b[0m\u001b[0;34m:\u001b[0m\u001b[0;34m\u001b[0m\u001b[0;34m\u001b[0m\u001b[0m\n",
      "\u001b[0;32m~/anaconda3/envs/reinforcement_learning_space_invaders/lib/python3.7/site-packages/ray/tune/trial_runner.py\u001b[0m in \u001b[0;36m_process_events\u001b[0;34m(self)\u001b[0m\n\u001b[1;32m    490\u001b[0m \u001b[0;34m\u001b[0m\u001b[0m\n\u001b[1;32m    491\u001b[0m     \u001b[0;32mdef\u001b[0m \u001b[0m_process_events\u001b[0m\u001b[0;34m(\u001b[0m\u001b[0mself\u001b[0m\u001b[0;34m)\u001b[0m\u001b[0;34m:\u001b[0m\u001b[0;34m\u001b[0m\u001b[0;34m\u001b[0m\u001b[0m\n\u001b[0;32m--> 492\u001b[0;31m         \u001b[0mtrial\u001b[0m \u001b[0;34m=\u001b[0m \u001b[0mself\u001b[0m\u001b[0;34m.\u001b[0m\u001b[0mtrial_executor\u001b[0m\u001b[0;34m.\u001b[0m\u001b[0mget_next_available_trial\u001b[0m\u001b[0;34m(\u001b[0m\u001b[0;34m)\u001b[0m  \u001b[0;31m# blocking\u001b[0m\u001b[0;34m\u001b[0m\u001b[0;34m\u001b[0m\u001b[0m\n\u001b[0m\u001b[1;32m    493\u001b[0m         \u001b[0;32mwith\u001b[0m \u001b[0mwarn_if_slow\u001b[0m\u001b[0;34m(\u001b[0m\u001b[0;34m\"process_trial\"\u001b[0m\u001b[0;34m)\u001b[0m\u001b[0;34m:\u001b[0m\u001b[0;34m\u001b[0m\u001b[0;34m\u001b[0m\u001b[0m\n\u001b[1;32m    494\u001b[0m             \u001b[0mself\u001b[0m\u001b[0;34m.\u001b[0m\u001b[0m_process_trial\u001b[0m\u001b[0;34m(\u001b[0m\u001b[0mtrial\u001b[0m\u001b[0;34m)\u001b[0m\u001b[0;34m\u001b[0m\u001b[0;34m\u001b[0m\u001b[0m\n",
      "\u001b[0;32m~/anaconda3/envs/reinforcement_learning_space_invaders/lib/python3.7/site-packages/ray/tune/ray_trial_executor.py\u001b[0m in \u001b[0;36mget_next_available_trial\u001b[0;34m(self)\u001b[0m\n\u001b[1;32m    321\u001b[0m         \u001b[0;31m# See https://github.com/ray-project/ray/issues/4211 for details.\u001b[0m\u001b[0;34m\u001b[0m\u001b[0;34m\u001b[0m\u001b[0;34m\u001b[0m\u001b[0m\n\u001b[1;32m    322\u001b[0m         \u001b[0mstart\u001b[0m \u001b[0;34m=\u001b[0m \u001b[0mtime\u001b[0m\u001b[0;34m.\u001b[0m\u001b[0mtime\u001b[0m\u001b[0;34m(\u001b[0m\u001b[0;34m)\u001b[0m\u001b[0;34m\u001b[0m\u001b[0;34m\u001b[0m\u001b[0m\n\u001b[0;32m--> 323\u001b[0;31m         \u001b[0;34m[\u001b[0m\u001b[0mresult_id\u001b[0m\u001b[0;34m]\u001b[0m\u001b[0;34m,\u001b[0m \u001b[0m_\u001b[0m \u001b[0;34m=\u001b[0m \u001b[0mray\u001b[0m\u001b[0;34m.\u001b[0m\u001b[0mwait\u001b[0m\u001b[0;34m(\u001b[0m\u001b[0mshuffled_results\u001b[0m\u001b[0;34m)\u001b[0m\u001b[0;34m\u001b[0m\u001b[0;34m\u001b[0m\u001b[0m\n\u001b[0m\u001b[1;32m    324\u001b[0m         \u001b[0mwait_time\u001b[0m \u001b[0;34m=\u001b[0m \u001b[0mtime\u001b[0m\u001b[0;34m.\u001b[0m\u001b[0mtime\u001b[0m\u001b[0;34m(\u001b[0m\u001b[0;34m)\u001b[0m \u001b[0;34m-\u001b[0m \u001b[0mstart\u001b[0m\u001b[0;34m\u001b[0m\u001b[0;34m\u001b[0m\u001b[0m\n\u001b[1;32m    325\u001b[0m         \u001b[0;32mif\u001b[0m \u001b[0mwait_time\u001b[0m \u001b[0;34m>\u001b[0m \u001b[0mNONTRIVIAL_WAIT_TIME_THRESHOLD_S\u001b[0m\u001b[0;34m:\u001b[0m\u001b[0;34m\u001b[0m\u001b[0;34m\u001b[0m\u001b[0m\n",
      "\u001b[0;32m~/anaconda3/envs/reinforcement_learning_space_invaders/lib/python3.7/site-packages/ray/worker.py\u001b[0m in \u001b[0;36mwait\u001b[0;34m(object_ids, num_returns, timeout)\u001b[0m\n\u001b[1;32m   2455\u001b[0m             \u001b[0mtimeout_milliseconds\u001b[0m\u001b[0;34m,\u001b[0m\u001b[0;34m\u001b[0m\u001b[0;34m\u001b[0m\u001b[0m\n\u001b[1;32m   2456\u001b[0m             \u001b[0;32mFalse\u001b[0m\u001b[0;34m,\u001b[0m\u001b[0;34m\u001b[0m\u001b[0;34m\u001b[0m\u001b[0m\n\u001b[0;32m-> 2457\u001b[0;31m             \u001b[0mworker\u001b[0m\u001b[0;34m.\u001b[0m\u001b[0mcurrent_task_id\u001b[0m\u001b[0;34m,\u001b[0m\u001b[0;34m\u001b[0m\u001b[0;34m\u001b[0m\u001b[0m\n\u001b[0m\u001b[1;32m   2458\u001b[0m         )\n\u001b[1;32m   2459\u001b[0m         \u001b[0;32mreturn\u001b[0m \u001b[0mready_ids\u001b[0m\u001b[0;34m,\u001b[0m \u001b[0mremaining_ids\u001b[0m\u001b[0;34m\u001b[0m\u001b[0;34m\u001b[0m\u001b[0m\n",
      "\u001b[0;32mpython/ray/_raylet.pyx\u001b[0m in \u001b[0;36mray._raylet.RayletClient.wait\u001b[0;34m()\u001b[0m\n",
      "\u001b[0;32mpython/ray/_raylet.pyx\u001b[0m in \u001b[0;36mray._raylet.check_status\u001b[0;34m()\u001b[0m\n",
      "\u001b[0;32m~/anaconda3/envs/reinforcement_learning_space_invaders/lib/python3.7/site-packages/ray/exceptions.py\u001b[0m in \u001b[0;36m__init__\u001b[0;34m(self, client_exc)\u001b[0m\n\u001b[1;32m     84\u001b[0m     \"\"\"\n\u001b[1;32m     85\u001b[0m \u001b[0;34m\u001b[0m\u001b[0m\n\u001b[0;32m---> 86\u001b[0;31m     \u001b[0;32mdef\u001b[0m \u001b[0m__init__\u001b[0m\u001b[0;34m(\u001b[0m\u001b[0mself\u001b[0m\u001b[0;34m,\u001b[0m \u001b[0mclient_exc\u001b[0m\u001b[0;34m)\u001b[0m\u001b[0;34m:\u001b[0m\u001b[0;34m\u001b[0m\u001b[0;34m\u001b[0m\u001b[0m\n\u001b[0m\u001b[1;32m     87\u001b[0m         \u001b[0mself\u001b[0m\u001b[0;34m.\u001b[0m\u001b[0mclient_exc\u001b[0m \u001b[0;34m=\u001b[0m \u001b[0mclient_exc\u001b[0m\u001b[0;34m\u001b[0m\u001b[0;34m\u001b[0m\u001b[0m\n\u001b[1;32m     88\u001b[0m \u001b[0;34m\u001b[0m\u001b[0m\n",
      "\u001b[0;31mKeyboardInterrupt\u001b[0m: "
     ]
    }
   ],
   "source": [
    "dd"
   ]
  },
  {
   "cell_type": "code",
   "execution_count": 9,
   "metadata": {},
   "outputs": [
    {
     "ename": "NameError",
     "evalue": "name 't' is not defined",
     "output_type": "error",
     "traceback": [
      "\u001b[0;31m---------------------------------------------------------------------------\u001b[0m",
      "\u001b[0;31mNameError\u001b[0m                                 Traceback (most recent call last)",
      "\u001b[0;32m<ipython-input-9-34fc7a11cb38>\u001b[0m in \u001b[0;36m<module>\u001b[0;34m\u001b[0m\n\u001b[0;32m----> 1\u001b[0;31m \u001b[0mt\u001b[0m\u001b[0;34m\u001b[0m\u001b[0;34m\u001b[0m\u001b[0m\n\u001b[0m",
      "\u001b[0;31mNameError\u001b[0m: name 't' is not defined"
     ]
    }
   ],
   "source": [
    "t"
   ]
  },
  {
   "cell_type": "code",
   "execution_count": null,
   "metadata": {},
   "outputs": [],
   "source": []
  }
 ],
 "metadata": {
  "kernelspec": {
   "display_name": "Python [conda env:reinforcement_learning_space_invaders]",
   "language": "python",
   "name": "conda-env-reinforcement_learning_space_invaders-py"
  },
  "language_info": {
   "codemirror_mode": {
    "name": "ipython",
    "version": 3
   },
   "file_extension": ".py",
   "mimetype": "text/x-python",
   "name": "python",
   "nbconvert_exporter": "python",
   "pygments_lexer": "ipython3",
   "version": "3.7.4"
  }
 },
 "nbformat": 4,
 "nbformat_minor": 2
}
